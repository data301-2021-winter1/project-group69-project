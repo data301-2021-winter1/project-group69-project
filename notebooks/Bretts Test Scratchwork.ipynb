{
 "cells": [
  {
   "cell_type": "code",
   "execution_count": 1,
   "id": "b75413f0-2cb6-456b-94b4-7311e1dfddd5",
   "metadata": {},
   "outputs": [],
   "source": [
    "import pandas as pd"
   ]
  },
  {
   "cell_type": "code",
   "execution_count": 13,
   "id": "911825da-1b27-469e-b29d-4baf9984498a",
   "metadata": {},
   "outputs": [
    {
     "data": {
      "text/plain": [
       "[3, 4]"
      ]
     },
     "execution_count": 13,
     "metadata": {},
     "output_type": "execute_result"
    }
   ],
   "source": [
    "my_dictionary = { 'apple': 2, 4: 3, 3:1, 'grapes': 4 }\n",
    "\n",
    "def values_that_are_keys(my_dictionary):\n",
    "    values = list(my_dictionary.values())\n",
    "    keys = list(my_dictionary.keys())\n",
    "    vk = []\n",
    "    for x in values:\n",
    "        if x in keys:\n",
    "            vk.append(x)\n",
    "    return vk\n",
    "\n",
    "values_that_are_keys(my_dictionary)"
   ]
  },
  {
   "cell_type": "code",
   "execution_count": 19,
   "id": "484f466e-db79-4cff-823d-947547b393a7",
   "metadata": {},
   "outputs": [
    {
     "name": "stdout",
     "output_type": "stream",
     "text": [
      "{'apple': 5, 'potato': 6, 'pepper': 6, 'orangey': 7}\n"
     ]
    }
   ],
   "source": [
    "wordlist = ['apple', 'potato', 'pepper', 'orangey']\n",
    "\n",
    "def word_length_dictionary(words):\n",
    "    lengths = []\n",
    "    for x in words:\n",
    "        lengths.append(len(x))\n",
    "    return {words[i]: lengths[i] for i in range(len(words))}\n",
    "\n",
    "print(word_length_dictionary(wordlist))"
   ]
  },
  {
   "cell_type": "code",
   "execution_count": 18,
   "id": "853cce08-1995-4ce9-9f6a-823d341c0cb3",
   "metadata": {},
   "outputs": [
    {
     "data": {
      "text/plain": [
       "[1, 2, 6, 4]"
      ]
     },
     "execution_count": 18,
     "metadata": {},
     "output_type": "execute_result"
    }
   ],
   "source": [
    "def double_index(lst, index):\n",
    "    newlst = lst\n",
    "    newlst[index] = lst[index] * 2\n",
    "    return newlst\n",
    "\n",
    "double_index([1, 2, 3, 4], 2)"
   ]
  },
  {
   "cell_type": "code",
   "execution_count": 20,
   "id": "689ee876-5244-4eae-a89f-8ea83d6c8b10",
   "metadata": {},
   "outputs": [
    {
     "data": {
      "text/plain": [
       "[11, 12, 15]"
      ]
     },
     "execution_count": 20,
     "metadata": {},
     "output_type": "execute_result"
    }
   ],
   "source": [
    "def delete_starting_evens(input):\n",
    "    while (input[0] % 2 == 0):\n",
    "        input.remove(input[0])\n",
    "    return input\n",
    "\n",
    "delete_starting_evens([4, 8, 10, 11, 12, 15])"
   ]
  },
  {
   "cell_type": "code",
   "execution_count": 24,
   "id": "e5b79bcf-8180-4656-9d93-bfed5fa2f7e5",
   "metadata": {},
   "outputs": [
    {
     "data": {
      "text/plain": [
       "True"
      ]
     },
     "execution_count": 24,
     "metadata": {},
     "output_type": "execute_result"
    }
   ],
   "source": [
    "def divisible_by_ten(num):\n",
    "    return (num % 10 == 0)\n",
    "\n",
    "divisible_by_ten(10)"
   ]
  },
  {
   "cell_type": "code",
   "execution_count": null,
   "id": "f0c2b04a-8c16-4792-93c3-efa5dc53da47",
   "metadata": {},
   "outputs": [],
   "source": []
  }
 ],
 "metadata": {
  "kernelspec": {
   "display_name": "Python 3 (ipykernel)",
   "language": "python",
   "name": "python3"
  },
  "language_info": {
   "codemirror_mode": {
    "name": "ipython",
    "version": 3
   },
   "file_extension": ".py",
   "mimetype": "text/x-python",
   "name": "python",
   "nbconvert_exporter": "python",
   "pygments_lexer": "ipython3",
   "version": "3.9.5"
  }
 },
 "nbformat": 4,
 "nbformat_minor": 5
}
