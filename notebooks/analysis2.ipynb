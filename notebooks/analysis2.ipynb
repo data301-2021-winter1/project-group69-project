{
 "cells": [
  {
   "cell_type": "markdown",
   "metadata": {},
   "source": [
    "# Brett Meraw"
   ]
  },
  {
   "cell_type": "markdown",
   "metadata": {},
   "source": [
    "## Research question/interests\n",
    "I will be specifically looking at the distribution of success rates among cards, what cards appear mostly in maindeck vs mostly in sideboard, average mana value of non-land cards, and the proportions of different types of cards (creatures, lands, sorceries, artifacts, and enchantments)."
   ]
  },
  {
   "cell_type": "code",
   "execution_count": 1,
   "metadata": {},
   "outputs": [
    {
     "data": {
      "text/html": [
       "<div>\n",
       "<style scoped>\n",
       "    .dataframe tbody tr th:only-of-type {\n",
       "        vertical-align: middle;\n",
       "    }\n",
       "\n",
       "    .dataframe tbody tr th {\n",
       "        vertical-align: top;\n",
       "    }\n",
       "\n",
       "    .dataframe thead th {\n",
       "        text-align: right;\n",
       "    }\n",
       "</style>\n",
       "<table border=\"1\" class=\"dataframe\">\n",
       "  <thead>\n",
       "    <tr style=\"text-align: right;\">\n",
       "      <th></th>\n",
       "      <th>cmc</th>\n",
       "      <th>color</th>\n",
       "      <th>name</th>\n",
       "      <th>type</th>\n",
       "      <th>star_score</th>\n",
       "      <th>board_ratio</th>\n",
       "    </tr>\n",
       "  </thead>\n",
       "  <tbody>\n",
       "    <tr>\n",
       "      <th>1343</th>\n",
       "      <td>1</td>\n",
       "      <td>URH</td>\n",
       "      <td>TBLD Knack Charm</td>\n",
       "      <td>Flash Sorcery - Charm</td>\n",
       "      <td>0</td>\n",
       "      <td>1.000000</td>\n",
       "    </tr>\n",
       "    <tr>\n",
       "      <th>1602</th>\n",
       "      <td>4</td>\n",
       "      <td>U</td>\n",
       "      <td>TBLD Murk Strider</td>\n",
       "      <td>Creature - Eldrazi</td>\n",
       "      <td>0</td>\n",
       "      <td>NaN</td>\n",
       "    </tr>\n",
       "    <tr>\n",
       "      <th>1601</th>\n",
       "      <td>1</td>\n",
       "      <td>U</td>\n",
       "      <td>TBLD Mist Intruder</td>\n",
       "      <td>Creature - Eldrazi</td>\n",
       "      <td>0</td>\n",
       "      <td>NaN</td>\n",
       "    </tr>\n",
       "    <tr>\n",
       "      <th>1600</th>\n",
       "      <td>2</td>\n",
       "      <td>MUB</td>\n",
       "      <td>TBLD Fathom Feeder</td>\n",
       "      <td>Creature - Eldrazi</td>\n",
       "      <td>0</td>\n",
       "      <td>NaN</td>\n",
       "    </tr>\n",
       "    <tr>\n",
       "      <th>1599</th>\n",
       "      <td>3</td>\n",
       "      <td>MBR</td>\n",
       "      <td>TBLD Flayer Drone</td>\n",
       "      <td>Creature - Eldrazi</td>\n",
       "      <td>0</td>\n",
       "      <td>NaN</td>\n",
       "    </tr>\n",
       "    <tr>\n",
       "      <th>...</th>\n",
       "      <td>...</td>\n",
       "      <td>...</td>\n",
       "      <td>...</td>\n",
       "      <td>...</td>\n",
       "      <td>...</td>\n",
       "      <td>...</td>\n",
       "    </tr>\n",
       "    <tr>\n",
       "      <th>320</th>\n",
       "      <td>0</td>\n",
       "      <td>MWB</td>\n",
       "      <td>TBLD Regents Court</td>\n",
       "      <td>Land</td>\n",
       "      <td>16</td>\n",
       "      <td>1.000000</td>\n",
       "    </tr>\n",
       "    <tr>\n",
       "      <th>829</th>\n",
       "      <td>0</td>\n",
       "      <td>MUB</td>\n",
       "      <td>TBLD Stagnant Pools</td>\n",
       "      <td>Land - Island Swamp</td>\n",
       "      <td>16</td>\n",
       "      <td>1.000000</td>\n",
       "    </tr>\n",
       "    <tr>\n",
       "      <th>207</th>\n",
       "      <td>2</td>\n",
       "      <td>W</td>\n",
       "      <td>TBLD Mysterious Disappearance</td>\n",
       "      <td>Sorcery</td>\n",
       "      <td>17</td>\n",
       "      <td>0.416667</td>\n",
       "    </tr>\n",
       "    <tr>\n",
       "      <th>903</th>\n",
       "      <td>2</td>\n",
       "      <td>B</td>\n",
       "      <td>TBLD Backstab</td>\n",
       "      <td>Sorcery</td>\n",
       "      <td>22</td>\n",
       "      <td>0.000000</td>\n",
       "    </tr>\n",
       "    <tr>\n",
       "      <th>912</th>\n",
       "      <td>2</td>\n",
       "      <td>B</td>\n",
       "      <td>TBLD Interrogate</td>\n",
       "      <td>Sorcery</td>\n",
       "      <td>27</td>\n",
       "      <td>0.235294</td>\n",
       "    </tr>\n",
       "  </tbody>\n",
       "</table>\n",
       "<p>1885 rows × 6 columns</p>\n",
       "</div>"
      ],
      "text/plain": [
       "      cmc color                           name                    type  \\\n",
       "1343    1   URH               TBLD Knack Charm  Flash Sorcery - Charm    \n",
       "1602    4     U              TBLD Murk Strider     Creature - Eldrazi    \n",
       "1601    1     U             TBLD Mist Intruder     Creature - Eldrazi    \n",
       "1600    2   MUB             TBLD Fathom Feeder     Creature - Eldrazi    \n",
       "1599    3   MBR              TBLD Flayer Drone     Creature - Eldrazi    \n",
       "...   ...   ...                            ...                     ...   \n",
       "320     0   MWB             TBLD Regents Court                    Land   \n",
       "829     0   MUB            TBLD Stagnant Pools    Land - Island Swamp    \n",
       "207     2     W  TBLD Mysterious Disappearance                 Sorcery   \n",
       "903     2     B                  TBLD Backstab                 Sorcery   \n",
       "912     2     B               TBLD Interrogate                 Sorcery   \n",
       "\n",
       "      star_score  board_ratio  \n",
       "1343           0     1.000000  \n",
       "1602           0          NaN  \n",
       "1601           0          NaN  \n",
       "1600           0          NaN  \n",
       "1599           0          NaN  \n",
       "...          ...          ...  \n",
       "320           16     1.000000  \n",
       "829           16     1.000000  \n",
       "207           17     0.416667  \n",
       "903           22     0.000000  \n",
       "912           27     0.235294  \n",
       "\n",
       "[1885 rows x 6 columns]"
      ]
     },
     "execution_count": 1,
     "metadata": {},
     "output_type": "execute_result"
    }
   ],
   "source": [
    "import numpy as np\n",
    "import pandas as pd\n",
    "import matplotlib.pylab as plt\n",
    "import seaborn as sns\n",
    "import brett\n",
    "\n",
    "cards = brett.clean_cards()\n",
    "\n",
    "cards"
   ]
  },
  {
   "cell_type": "code",
   "execution_count": 2,
   "metadata": {},
   "outputs": [
    {
     "data": {
      "image/png": "[encoded data removed]",
      "text/plain": [
       "<Figure size 432x288 with 1 Axes>"
      ]
     },
     "metadata": {
      "needs_background": "light"
     },
     "output_type": "display_data"
    }
   ],
   "source": [
    "import math\n",
    "\n",
    "stardata = {}\n",
    "for i in range(cards['star_score'].max() + 1):\n",
    "    stardata[str(i)] = [len(cards.loc[lambda x: x['star_score'] == i].index)]\n",
    "\n",
    "plot = sns.barplot(data = pd.DataFrame.from_dict(stardata))"
   ]
  },
  {
   "cell_type": "markdown",
   "metadata": {},
   "source": [
    "### Distribution of Star Scores\n",
    "Each card has a different 'star score' based on how many decks using the card have been successful in a tournament. For example, if a 1-star deck makes use of three copies of a given card, that card's star score is increased by 3. If a 2-star deck makes use of four copies of a given card, that card's star score is increased by 8.\n",
    "We can see from the graph that the vast majority of cards have not been used in a successful tournament deck even once. A version of the graph which ommits this data to make the rest of the data more readable can be found below:"
   ]
  },
  {
   "cell_type": "code",
   "execution_count": 3,
   "metadata": {},
   "outputs": [
    {
     "data": {
      "image/png": "[encoded data removed]",
      "text/plain": [
       "<Figure size 432x288 with 1 Axes>"
      ]
     },
     "metadata": {
      "needs_background": "light"
     },
     "output_type": "display_data"
    }
   ],
   "source": [
    "stardata.pop('0', None)\n",
    "\n",
    "plot = sns.barplot(data = pd.DataFrame.from_dict(stardata))"
   ]
  },
  {
   "cell_type": "markdown",
   "metadata": {},
   "source": [
    "### Distribution of Star Scores Continued\n",
    "There are a few outliers that have seen heavy play in tournament winning decks. However, for the most part there are very few cards that are massively over-represented among successful decks. There appears to be a wide pool of cards showing up on the podium, so-to-speak."
   ]
  },
  {
   "cell_type": "code",
   "execution_count": 4,
   "metadata": {},
   "outputs": [
    {
     "data": {
      "image/png": "[encoded data removed]",
      "text/plain": [
       "<Figure size 432x288 with 1 Axes>"
      ]
     },
     "metadata": {
      "needs_background": "light"
     },
     "output_type": "display_data"
    }
   ],
   "source": [
    "board_cards = cards.loc[lambda x: x['board_ratio'] != float(\"NaN\")]\n",
    "\n",
    "plot = sns.boxplot(x='board_ratio', data = board_cards)"
   ]
  },
  {
   "cell_type": "markdown",
   "metadata": {},
   "source": [
    "### Distribution of Mainboard usage versus Sideboard usage\n",
    "\n",
    "When players use the cards in this dataset to play against eachother, they include the cards in either their 'mainboard' or their 'sideboard'. The mainboard cards are used every game, but the sideboard cards are brought as niche tools only to be used against certain opponents.\n",
    "\n",
    "The box plot above shows that most cards are either used in the mainboard or the sideboard, with virtually no cards seeing equal use in both. Also, most cards are exclusively used as mainboard cards, with a comparably smaller pool of cards being used as sideboard cards. This suggests that decks with very different mainboard may often have very similar sideboards."
   ]
  },
  {
   "cell_type": "code",
   "execution_count": 5,
   "metadata": {},
   "outputs": [
    {
     "data": {
      "image/png": "[encoded data removed]",
      "text/plain": [
       "<Figure size 432x288 with 1 Axes>"
      ]
     },
     "metadata": {
      "needs_background": "light"
     },
     "output_type": "display_data"
    }
   ],
   "source": [
    "colors = [\"W\",\"U\",\"B\",\"R\",\"G\"]\n",
    "count = [0,0,0,0,0]\n",
    "cmc = [0,0,0,0,0]\n",
    "for index, color in enumerate(colors):\n",
    "    for index2,row in cards.iterrows():\n",
    "        if \"Land\" in row['type']:\n",
    "            continue\n",
    "        if color in row['color']:\n",
    "            count[index] +=1\n",
    "            cmc[index] += row['cmc']\n",
    "colorcmc = {}\n",
    "for i in range(5):\n",
    "    colorcmc[colors[i]] = [cmc[i]/count[i]]\n",
    "    \n",
    "barcolors=['white','blue','black','red','green']\n",
    "plot = sns.barplot(data = pd.DataFrame.from_dict(colorcmc))\n",
    "for i, bar in enumerate(plot.patches):\n",
    "    bar.set_color(barcolors[i])\n",
    "    bar.set_edgecolor(\"black\")"
   ]
  },
  {
   "cell_type": "markdown",
   "metadata": {},
   "source": [
    "### Average Mana Value for each Color\n",
    "\n",
    "There are five card colors in Magic: the Gathering: white, blue, black, red, green. Note that cards can be more than one color.\n",
    "\n",
    "The bar graph above compares the average mana value of each color. They appear to be quite similar, though blue and green cards seem to be chunkier on average than those of other colors."
   ]
  },
  {
   "cell_type": "code",
   "execution_count": 6,
   "metadata": {},
   "outputs": [
    {
     "data": {
      "image/png": "[encoded data removed]",
      "text/plain": [
       "<Figure size 432x288 with 1 Axes>"
      ]
     },
     "metadata": {
      "needs_background": "light"
     },
     "output_type": "display_data"
    }
   ],
   "source": [
    "cardtypes = [\"Land\", \"Sorcery\", \"Artifact\", \"Enchantment\", \"Creature\"]\n",
    "count = [0,0,0,0,0]\n",
    "\n",
    "for index, typeentry in enumerate(cardtypes):\n",
    "    for index2, row in cards.iterrows():\n",
    "        if typeentry in row['type']:\n",
    "            count[index] += 1\n",
    "\n",
    "typecount = {}\n",
    "for i in range(5):\n",
    "    typecount[cardtypes[i]] = [count[i]]\n",
    "plot = sns.barplot(data = pd.DataFrame.from_dict(typecount))"
   ]
  },
  {
   "cell_type": "markdown",
   "metadata": {},
   "source": [
    "### Card Type Distribution\n",
    "\n",
    "The above graph shows the distribution of card types in the data set. Every card has at least one type. Some cards are more than one type, though the vast majority of cards are only one type. There are no sorcery cards that are also another type.\n",
    "\n",
    "We can see from the graph that sorcery and creature cards are the most common."
   ]
  }
 ],
 "metadata": {
  "kernelspec": {
   "display_name": "Python 3 (ipykernel)",
   "language": "python",
   "name": "python3"
  },
  "language_info": {
   "codemirror_mode": {
    "name": "ipython",
    "version": 3
   },
   "file_extension": ".py",
   "mimetype": "text/x-python",
   "name": "python",
   "nbconvert_exporter": "python",
   "pygments_lexer": "ipython3",
   "version": "3.9.5"
  }
 },
 "nbformat": 4,
 "nbformat_minor": 4
}
