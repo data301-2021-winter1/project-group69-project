{
 "cells": [
  {
   "cell_type": "markdown",
   "metadata": {},
   "source": [
    "# Brett Meraw"
   ]
  },
  {
   "cell_type": "markdown",
   "metadata": {
    "tags": []
   },
   "source": [
    "## Research question/interests\r\n",
    "I will be specifically looking at the average mana value of cards, which cards appear most often in decks, which cards have been used in decks that have found success in tournaments, and the proportions of different types of cards (creatures, lands, sorceries, artifacts, and enchantments)e."
   ]
  },
  {
   "cell_type": "code",
   "execution_count": 5,
   "metadata": {},
   "outputs": [],
   "source": [
    "import numpy as np\n",
    "import pandas as pd\n",
    "import matplotlib.pylab as plt\n",
    "import seaborn as sns\n",
    "\n",
    "cards = pd.read_json(\"https://us-central1-tumbledmtg-website.cloudfunctions.net/api/cards\")\n",
    "decklists = pd.read_json(\"https://us-central1-tumbledmtg-website.cloudfunctions.net/api/decklists\")"
   ]
  },
  {
   "cell_type": "code",
   "execution_count": 13,
   "metadata": {},
   "outputs": [
    {
     "name": "stdout",
     "output_type": "stream",
     "text": [
      "number of rows and columns:\n",
      "(2286, 13)\n",
      "first five rows:\n",
      "   cmc   color                       name   set  tablerow  \\\n",
      "0    0  MWUBRG  TBLD Transguild Promenade  TBLD         0   \n",
      "1    0  MWUBRG           TBLD Power Plant  TBLD         0   \n",
      "2    0       C          TBLD Wizard Spire  TBLD         0   \n",
      "3    0       U  TBLD Stitchers Laboratory  TBLD         0   \n",
      "4    4       W        TBLD Battle Screech  TBLD         3   \n",
      "\n",
      "                                                text     type            tags  \\\n",
      "0  This enters play tapped.\\nWhen this enters pla...     Land             NaN   \n",
      "1  T: Add one mana of any color. Spend this mana ...     Land             NaN   \n",
      "2  When this enters play, you may reveal a Wizard...     Land         UTILITY   \n",
      "3  As this enters play, you may reveal a Zombie c...     Land  ZOMBIE UTILITY   \n",
      "4  Create two 1/1 white Bird creature tokens with...  Sorcery             NaN   \n",
      "\n",
      "  manacost   pt related layout side  \n",
      "0      NaN  NaN     NaN    NaN  NaN  \n",
      "1      NaN  NaN     NaN    NaN  NaN  \n",
      "2      NaN  NaN     NaN    NaN  NaN  \n",
      "3      NaN  NaN     NaN    NaN  NaN  \n",
      "4      2WW  NaN     NaN    NaN  NaN  \n",
      "name of all columns:\n",
      "Index(['cmc', 'color', 'name', 'set', 'tablerow', 'text', 'type', 'tags',\n",
      "       'manacost', 'pt', 'related', 'layout', 'side'],\n",
      "      dtype='object')\n",
      "\n",
      "\n"
     ]
    }
   ],
   "source": [
    "print(\"number of rows and columns:\")\n",
    "print(cards.shape)\n",
    "print(\"first five rows:\")\n",
    "print(cards.head())\n",
    "print(\"name of all columns:\")\n",
    "print(cards.columns)\n",
    "\n",
    "print(\"\\n\")\n",
    "\n",
    "cards.nunique(axis=0)"
   ]
  },
  {
   "cell_type": "code",
   "execution_count": null,
   "metadata": {},
   "outputs": [],
   "source": []
  }
 ],
 "metadata": {
  "kernelspec": {
   "display_name": "Python 3 (ipykernel)",
   "language": "python",
   "name": "python3"
  },
  "language_info": {
   "codemirror_mode": {
    "name": "ipython",
    "version": 3
   },
   "file_extension": ".py",
   "mimetype": "text/x-python",
   "name": "python",
   "nbconvert_exporter": "python",
   "pygments_lexer": "ipython3",
   "version": "3.9.5"
  }
 },
 "nbformat": 4,
 "nbformat_minor": 4
}
