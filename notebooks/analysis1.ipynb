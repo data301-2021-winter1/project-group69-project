{
 "cells": [
  {
   "cell_type": "code",
   "execution_count": 1,
   "metadata": {},
   "outputs": [],
   "source": [
    "# Thomas Buchholz"
   ]
  },
  {
   "cell_type": "markdown",
   "metadata": {},
   "source": [
    "## Research question/interests\n",
    "\n",
    "I will be taking a look at the decklists we have collected. More specifically, I will be looking at what the average deck is made of and how it compares to the decks that are winning tournaments. Some particular fields of interest are the average mana value of a decklist, what is the most common deck color, and how many lands does the average deck use.\n",
    "."
   ]
  },
  {
   "cell_type": "code",
   "execution_count": 2,
   "metadata": {},
   "outputs": [],
   "source": [
    "import pandas as pd\n",
    "import matplotlib.pyplot as plt\n",
    "import thomas1\n",
    "import seaborn as sns\n",
    "\n",
    "decklists = thomas1.clean_decklists()"
   ]
  },
  {
   "cell_type": "code",
   "execution_count": 3,
   "metadata": {},
   "outputs": [
    {
     "data": {
      "text/html": [
       "<div>\n",
       "<style scoped>\n",
       "    .dataframe tbody tr th:only-of-type {\n",
       "        vertical-align: middle;\n",
       "    }\n",
       "\n",
       "    .dataframe tbody tr th {\n",
       "        vertical-align: top;\n",
       "    }\n",
       "\n",
       "    .dataframe thead th {\n",
       "        text-align: right;\n",
       "    }\n",
       "</style>\n",
       "<table border=\"1\" class=\"dataframe\">\n",
       "  <thead>\n",
       "    <tr style=\"text-align: right;\">\n",
       "      <th></th>\n",
       "      <th>stars</th>\n",
       "      <th>cards</th>\n",
       "      <th>lands</th>\n",
       "      <th>sorcery</th>\n",
       "      <th>enchant</th>\n",
       "      <th>creature</th>\n",
       "      <th>mv</th>\n",
       "      <th>white</th>\n",
       "      <th>blue</th>\n",
       "      <th>black</th>\n",
       "      <th>red</th>\n",
       "      <th>green</th>\n",
       "    </tr>\n",
       "  </thead>\n",
       "  <tbody>\n",
       "    <tr>\n",
       "      <th>129</th>\n",
       "      <td>2</td>\n",
       "      <td>4;TBLD Binding Mummy\\n4;TBLD Mummy Paramount\\n...</td>\n",
       "      <td>22</td>\n",
       "      <td>12</td>\n",
       "      <td>0</td>\n",
       "      <td>36</td>\n",
       "      <td>2.145833</td>\n",
       "      <td>0.382022</td>\n",
       "      <td>0.000000</td>\n",
       "      <td>0.617978</td>\n",
       "      <td>0.000000</td>\n",
       "      <td>0.000000</td>\n",
       "    </tr>\n",
       "    <tr>\n",
       "      <th>92</th>\n",
       "      <td>2</td>\n",
       "      <td>4;TBLD Faerie Miscreant\\n4;TBLD Eye Collector\\...</td>\n",
       "      <td>22</td>\n",
       "      <td>20</td>\n",
       "      <td>4</td>\n",
       "      <td>29</td>\n",
       "      <td>2.346939</td>\n",
       "      <td>0.000000</td>\n",
       "      <td>0.553571</td>\n",
       "      <td>0.446429</td>\n",
       "      <td>0.000000</td>\n",
       "      <td>0.000000</td>\n",
       "    </tr>\n",
       "    <tr>\n",
       "      <th>35</th>\n",
       "      <td>2</td>\n",
       "      <td>4;TBLD Mox Bismuth\\n4;TBLD Capricious Idol\\n4;...</td>\n",
       "      <td>19</td>\n",
       "      <td>24</td>\n",
       "      <td>0</td>\n",
       "      <td>24</td>\n",
       "      <td>0.785714</td>\n",
       "      <td>0.655172</td>\n",
       "      <td>0.137931</td>\n",
       "      <td>0.000000</td>\n",
       "      <td>0.172414</td>\n",
       "      <td>0.034483</td>\n",
       "    </tr>\n",
       "    <tr>\n",
       "      <th>85</th>\n",
       "      <td>2</td>\n",
       "      <td>4;TBLD Bone Miser\\n3;TBLD Grave Scrabbler\\n2;T...</td>\n",
       "      <td>24</td>\n",
       "      <td>30</td>\n",
       "      <td>6</td>\n",
       "      <td>15</td>\n",
       "      <td>2.823529</td>\n",
       "      <td>0.000000</td>\n",
       "      <td>0.000000</td>\n",
       "      <td>0.781818</td>\n",
       "      <td>0.218182</td>\n",
       "      <td>0.000000</td>\n",
       "    </tr>\n",
       "    <tr>\n",
       "      <th>52</th>\n",
       "      <td>1</td>\n",
       "      <td>4;TBLD Seagraf Skaab\\n3;TBLD Armored Skaab\\n4;...</td>\n",
       "      <td>24</td>\n",
       "      <td>22</td>\n",
       "      <td>4</td>\n",
       "      <td>25</td>\n",
       "      <td>2.392157</td>\n",
       "      <td>0.000000</td>\n",
       "      <td>0.411765</td>\n",
       "      <td>0.588235</td>\n",
       "      <td>0.000000</td>\n",
       "      <td>0.000000</td>\n",
       "    </tr>\n",
       "    <tr>\n",
       "      <th>127</th>\n",
       "      <td>1</td>\n",
       "      <td>2;TBLD Pristine Talisman\\n2;TBLD Beholder of A...</td>\n",
       "      <td>24</td>\n",
       "      <td>32</td>\n",
       "      <td>8</td>\n",
       "      <td>9</td>\n",
       "      <td>3.215686</td>\n",
       "      <td>0.017094</td>\n",
       "      <td>0.504274</td>\n",
       "      <td>0.247863</td>\n",
       "      <td>0.230769</td>\n",
       "      <td>0.000000</td>\n",
       "    </tr>\n",
       "    <tr>\n",
       "      <th>58</th>\n",
       "      <td>1</td>\n",
       "      <td>4;TBLD Happy Paddler\\n4;TBLD Merfolk Trickster...</td>\n",
       "      <td>21</td>\n",
       "      <td>21</td>\n",
       "      <td>4</td>\n",
       "      <td>29</td>\n",
       "      <td>1.796296</td>\n",
       "      <td>0.000000</td>\n",
       "      <td>0.784314</td>\n",
       "      <td>0.000000</td>\n",
       "      <td>0.000000</td>\n",
       "      <td>0.215686</td>\n",
       "    </tr>\n",
       "    <tr>\n",
       "      <th>24</th>\n",
       "      <td>1</td>\n",
       "      <td>4;TBLD Sorin Vampire Bloodlord\\n3;TBLD Pesky C...</td>\n",
       "      <td>24</td>\n",
       "      <td>32</td>\n",
       "      <td>8</td>\n",
       "      <td>11</td>\n",
       "      <td>2.960784</td>\n",
       "      <td>0.000000</td>\n",
       "      <td>0.000000</td>\n",
       "      <td>1.000000</td>\n",
       "      <td>0.000000</td>\n",
       "      <td>0.000000</td>\n",
       "    </tr>\n",
       "    <tr>\n",
       "      <th>96</th>\n",
       "      <td>1</td>\n",
       "      <td>3;TBLD Artisans Fountain\\n3;TBLD Sunblade Ange...</td>\n",
       "      <td>24</td>\n",
       "      <td>25</td>\n",
       "      <td>9</td>\n",
       "      <td>15</td>\n",
       "      <td>3.893617</td>\n",
       "      <td>0.588235</td>\n",
       "      <td>0.411765</td>\n",
       "      <td>0.000000</td>\n",
       "      <td>0.000000</td>\n",
       "      <td>0.000000</td>\n",
       "    </tr>\n",
       "    <tr>\n",
       "      <th>91</th>\n",
       "      <td>1</td>\n",
       "      <td>4;TBLD Bloodforged Battle-Axe\\n2;TBLD Goldvein...</td>\n",
       "      <td>16</td>\n",
       "      <td>11</td>\n",
       "      <td>0</td>\n",
       "      <td>34</td>\n",
       "      <td>1.563636</td>\n",
       "      <td>1.000000</td>\n",
       "      <td>0.000000</td>\n",
       "      <td>0.000000</td>\n",
       "      <td>0.000000</td>\n",
       "      <td>0.000000</td>\n",
       "    </tr>\n",
       "    <tr>\n",
       "      <th>62</th>\n",
       "      <td>1</td>\n",
       "      <td>4;TBLD Street Hacker\\n4;TBLD Stromkirk Noble\\n...</td>\n",
       "      <td>21</td>\n",
       "      <td>19</td>\n",
       "      <td>0</td>\n",
       "      <td>31</td>\n",
       "      <td>1.620000</td>\n",
       "      <td>0.000000</td>\n",
       "      <td>0.000000</td>\n",
       "      <td>0.000000</td>\n",
       "      <td>1.000000</td>\n",
       "      <td>0.000000</td>\n",
       "    </tr>\n",
       "    <tr>\n",
       "      <th>113</th>\n",
       "      <td>1</td>\n",
       "      <td>4;TBLD Arrogant Slayer\\n2;TBLD Seeker of the W...</td>\n",
       "      <td>20</td>\n",
       "      <td>40</td>\n",
       "      <td>4</td>\n",
       "      <td>7</td>\n",
       "      <td>1.686275</td>\n",
       "      <td>0.387097</td>\n",
       "      <td>0.000000</td>\n",
       "      <td>0.580645</td>\n",
       "      <td>0.032258</td>\n",
       "      <td>0.000000</td>\n",
       "    </tr>\n",
       "    <tr>\n",
       "      <th>49</th>\n",
       "      <td>1</td>\n",
       "      <td>4;TBLD Caller of Forgotten Faces\\n4;TBLD Jealo...</td>\n",
       "      <td>24</td>\n",
       "      <td>22</td>\n",
       "      <td>6</td>\n",
       "      <td>23</td>\n",
       "      <td>2.647059</td>\n",
       "      <td>0.000000</td>\n",
       "      <td>0.592593</td>\n",
       "      <td>0.407407</td>\n",
       "      <td>0.000000</td>\n",
       "      <td>0.000000</td>\n",
       "    </tr>\n",
       "    <tr>\n",
       "      <th>36</th>\n",
       "      <td>1</td>\n",
       "      <td>4;TBLD Mox Crystal\\n3;TBLD Emrakul Unfathomabl...</td>\n",
       "      <td>24</td>\n",
       "      <td>38</td>\n",
       "      <td>0</td>\n",
       "      <td>5</td>\n",
       "      <td>3.404255</td>\n",
       "      <td>0.315789</td>\n",
       "      <td>0.456140</td>\n",
       "      <td>0.000000</td>\n",
       "      <td>0.228070</td>\n",
       "      <td>0.000000</td>\n",
       "    </tr>\n",
       "    <tr>\n",
       "      <th>77</th>\n",
       "      <td>1</td>\n",
       "      <td>3;TBLD Claim Jumper\\n4;TBLD Flurry of Fists\\n4...</td>\n",
       "      <td>20</td>\n",
       "      <td>42</td>\n",
       "      <td>0</td>\n",
       "      <td>6</td>\n",
       "      <td>1.470588</td>\n",
       "      <td>0.220339</td>\n",
       "      <td>0.610169</td>\n",
       "      <td>0.067797</td>\n",
       "      <td>0.101695</td>\n",
       "      <td>0.000000</td>\n",
       "    </tr>\n",
       "    <tr>\n",
       "      <th>101</th>\n",
       "      <td>1</td>\n",
       "      <td>1;TBLD Emrakul Unfathomable Will\\n1;TBLD Kozil...</td>\n",
       "      <td>26</td>\n",
       "      <td>20</td>\n",
       "      <td>11</td>\n",
       "      <td>20</td>\n",
       "      <td>4.816327</td>\n",
       "      <td>0.134615</td>\n",
       "      <td>0.134615</td>\n",
       "      <td>0.480769</td>\n",
       "      <td>0.000000</td>\n",
       "      <td>0.250000</td>\n",
       "    </tr>\n",
       "    <tr>\n",
       "      <th>99</th>\n",
       "      <td>1</td>\n",
       "      <td>4;TBLD Happy Paddler\\n3;TBLD Merfolk Trickster...</td>\n",
       "      <td>20</td>\n",
       "      <td>19</td>\n",
       "      <td>4</td>\n",
       "      <td>28</td>\n",
       "      <td>1.784314</td>\n",
       "      <td>0.000000</td>\n",
       "      <td>1.000000</td>\n",
       "      <td>0.000000</td>\n",
       "      <td>0.000000</td>\n",
       "      <td>0.000000</td>\n",
       "    </tr>\n",
       "    <tr>\n",
       "      <th>106</th>\n",
       "      <td>1</td>\n",
       "      <td>4;TBLD Arrogant Slayer\\n1;TBLD Davriel Cane Di...</td>\n",
       "      <td>21</td>\n",
       "      <td>31</td>\n",
       "      <td>0</td>\n",
       "      <td>20</td>\n",
       "      <td>1.627451</td>\n",
       "      <td>0.000000</td>\n",
       "      <td>0.000000</td>\n",
       "      <td>0.666667</td>\n",
       "      <td>0.000000</td>\n",
       "      <td>0.333333</td>\n",
       "    </tr>\n",
       "    <tr>\n",
       "      <th>17</th>\n",
       "      <td>1</td>\n",
       "      <td>4;TBLD Spawn of Emrakul\\n4;TBLD Quakestep Behe...</td>\n",
       "      <td>24</td>\n",
       "      <td>12</td>\n",
       "      <td>0</td>\n",
       "      <td>36</td>\n",
       "      <td>5.000000</td>\n",
       "      <td>0.000000</td>\n",
       "      <td>0.000000</td>\n",
       "      <td>0.000000</td>\n",
       "      <td>0.083333</td>\n",
       "      <td>0.916667</td>\n",
       "    </tr>\n",
       "    <tr>\n",
       "      <th>89</th>\n",
       "      <td>1</td>\n",
       "      <td>3;TBLD Blood Pet\\n4;TBLD Gray Merchant of Asph...</td>\n",
       "      <td>22</td>\n",
       "      <td>16</td>\n",
       "      <td>0</td>\n",
       "      <td>24</td>\n",
       "      <td>2.175000</td>\n",
       "      <td>0.000000</td>\n",
       "      <td>0.000000</td>\n",
       "      <td>0.759259</td>\n",
       "      <td>0.000000</td>\n",
       "      <td>0.240741</td>\n",
       "    </tr>\n",
       "    <tr>\n",
       "      <th>83</th>\n",
       "      <td>1</td>\n",
       "      <td>4;TBLD Mox Bismuth\\n2;TBLD Ancient Seal\\n4;TBL...</td>\n",
       "      <td>22</td>\n",
       "      <td>12</td>\n",
       "      <td>4</td>\n",
       "      <td>34</td>\n",
       "      <td>2.811321</td>\n",
       "      <td>0.000000</td>\n",
       "      <td>0.000000</td>\n",
       "      <td>0.000000</td>\n",
       "      <td>0.300000</td>\n",
       "      <td>0.700000</td>\n",
       "    </tr>\n",
       "    <tr>\n",
       "      <th>1</th>\n",
       "      <td>1</td>\n",
       "      <td>4;TBLD Skittering Infestor\\n4;TBLD Sakura-Trib...</td>\n",
       "      <td>23</td>\n",
       "      <td>24</td>\n",
       "      <td>4</td>\n",
       "      <td>23</td>\n",
       "      <td>1.923077</td>\n",
       "      <td>0.068966</td>\n",
       "      <td>0.000000</td>\n",
       "      <td>0.000000</td>\n",
       "      <td>0.206897</td>\n",
       "      <td>0.724138</td>\n",
       "    </tr>\n",
       "    <tr>\n",
       "      <th>70</th>\n",
       "      <td>1</td>\n",
       "      <td>4;TBLD Mox Bismuth\\n4;TBLD Frontier Rover\\n4;T...</td>\n",
       "      <td>21</td>\n",
       "      <td>21</td>\n",
       "      <td>5</td>\n",
       "      <td>23</td>\n",
       "      <td>2.500000</td>\n",
       "      <td>0.000000</td>\n",
       "      <td>0.460000</td>\n",
       "      <td>0.000000</td>\n",
       "      <td>0.000000</td>\n",
       "      <td>0.540000</td>\n",
       "    </tr>\n",
       "    <tr>\n",
       "      <th>9</th>\n",
       "      <td>1</td>\n",
       "      <td>4;TBLD Grumpy Squatters\\n4;TBLD Budding Chick\\...</td>\n",
       "      <td>21</td>\n",
       "      <td>15</td>\n",
       "      <td>4</td>\n",
       "      <td>31</td>\n",
       "      <td>1.660000</td>\n",
       "      <td>0.318841</td>\n",
       "      <td>0.000000</td>\n",
       "      <td>0.000000</td>\n",
       "      <td>0.043478</td>\n",
       "      <td>0.637681</td>\n",
       "    </tr>\n",
       "    <tr>\n",
       "      <th>65</th>\n",
       "      <td>1</td>\n",
       "      <td>4;TBLD Binding Mummy\\n4;TBLD Mummy Paramount\\n...</td>\n",
       "      <td>22</td>\n",
       "      <td>18</td>\n",
       "      <td>0</td>\n",
       "      <td>35</td>\n",
       "      <td>2.056604</td>\n",
       "      <td>0.379310</td>\n",
       "      <td>0.000000</td>\n",
       "      <td>0.620690</td>\n",
       "      <td>0.000000</td>\n",
       "      <td>0.000000</td>\n",
       "    </tr>\n",
       "  </tbody>\n",
       "</table>\n",
       "</div>"
      ],
      "text/plain": [
       "     stars                                              cards  lands  sorcery  \\\n",
       "129      2  4;TBLD Binding Mummy\\n4;TBLD Mummy Paramount\\n...     22       12   \n",
       "92       2  4;TBLD Faerie Miscreant\\n4;TBLD Eye Collector\\...     22       20   \n",
       "35       2  4;TBLD Mox Bismuth\\n4;TBLD Capricious Idol\\n4;...     19       24   \n",
       "85       2  4;TBLD Bone Miser\\n3;TBLD Grave Scrabbler\\n2;T...     24       30   \n",
       "52       1  4;TBLD Seagraf Skaab\\n3;TBLD Armored Skaab\\n4;...     24       22   \n",
       "127      1  2;TBLD Pristine Talisman\\n2;TBLD Beholder of A...     24       32   \n",
       "58       1  4;TBLD Happy Paddler\\n4;TBLD Merfolk Trickster...     21       21   \n",
       "24       1  4;TBLD Sorin Vampire Bloodlord\\n3;TBLD Pesky C...     24       32   \n",
       "96       1  3;TBLD Artisans Fountain\\n3;TBLD Sunblade Ange...     24       25   \n",
       "91       1  4;TBLD Bloodforged Battle-Axe\\n2;TBLD Goldvein...     16       11   \n",
       "62       1  4;TBLD Street Hacker\\n4;TBLD Stromkirk Noble\\n...     21       19   \n",
       "113      1  4;TBLD Arrogant Slayer\\n2;TBLD Seeker of the W...     20       40   \n",
       "49       1  4;TBLD Caller of Forgotten Faces\\n4;TBLD Jealo...     24       22   \n",
       "36       1  4;TBLD Mox Crystal\\n3;TBLD Emrakul Unfathomabl...     24       38   \n",
       "77       1  3;TBLD Claim Jumper\\n4;TBLD Flurry of Fists\\n4...     20       42   \n",
       "101      1  1;TBLD Emrakul Unfathomable Will\\n1;TBLD Kozil...     26       20   \n",
       "99       1  4;TBLD Happy Paddler\\n3;TBLD Merfolk Trickster...     20       19   \n",
       "106      1  4;TBLD Arrogant Slayer\\n1;TBLD Davriel Cane Di...     21       31   \n",
       "17       1  4;TBLD Spawn of Emrakul\\n4;TBLD Quakestep Behe...     24       12   \n",
       "89       1  3;TBLD Blood Pet\\n4;TBLD Gray Merchant of Asph...     22       16   \n",
       "83       1  4;TBLD Mox Bismuth\\n2;TBLD Ancient Seal\\n4;TBL...     22       12   \n",
       "1        1  4;TBLD Skittering Infestor\\n4;TBLD Sakura-Trib...     23       24   \n",
       "70       1  4;TBLD Mox Bismuth\\n4;TBLD Frontier Rover\\n4;T...     21       21   \n",
       "9        1  4;TBLD Grumpy Squatters\\n4;TBLD Budding Chick\\...     21       15   \n",
       "65       1  4;TBLD Binding Mummy\\n4;TBLD Mummy Paramount\\n...     22       18   \n",
       "\n",
       "     enchant  creature        mv     white      blue     black       red  \\\n",
       "129        0        36  2.145833  0.382022  0.000000  0.617978  0.000000   \n",
       "92         4        29  2.346939  0.000000  0.553571  0.446429  0.000000   \n",
       "35         0        24  0.785714  0.655172  0.137931  0.000000  0.172414   \n",
       "85         6        15  2.823529  0.000000  0.000000  0.781818  0.218182   \n",
       "52         4        25  2.392157  0.000000  0.411765  0.588235  0.000000   \n",
       "127        8         9  3.215686  0.017094  0.504274  0.247863  0.230769   \n",
       "58         4        29  1.796296  0.000000  0.784314  0.000000  0.000000   \n",
       "24         8        11  2.960784  0.000000  0.000000  1.000000  0.000000   \n",
       "96         9        15  3.893617  0.588235  0.411765  0.000000  0.000000   \n",
       "91         0        34  1.563636  1.000000  0.000000  0.000000  0.000000   \n",
       "62         0        31  1.620000  0.000000  0.000000  0.000000  1.000000   \n",
       "113        4         7  1.686275  0.387097  0.000000  0.580645  0.032258   \n",
       "49         6        23  2.647059  0.000000  0.592593  0.407407  0.000000   \n",
       "36         0         5  3.404255  0.315789  0.456140  0.000000  0.228070   \n",
       "77         0         6  1.470588  0.220339  0.610169  0.067797  0.101695   \n",
       "101       11        20  4.816327  0.134615  0.134615  0.480769  0.000000   \n",
       "99         4        28  1.784314  0.000000  1.000000  0.000000  0.000000   \n",
       "106        0        20  1.627451  0.000000  0.000000  0.666667  0.000000   \n",
       "17         0        36  5.000000  0.000000  0.000000  0.000000  0.083333   \n",
       "89         0        24  2.175000  0.000000  0.000000  0.759259  0.000000   \n",
       "83         4        34  2.811321  0.000000  0.000000  0.000000  0.300000   \n",
       "1          4        23  1.923077  0.068966  0.000000  0.000000  0.206897   \n",
       "70         5        23  2.500000  0.000000  0.460000  0.000000  0.000000   \n",
       "9          4        31  1.660000  0.318841  0.000000  0.000000  0.043478   \n",
       "65         0        35  2.056604  0.379310  0.000000  0.620690  0.000000   \n",
       "\n",
       "        green  \n",
       "129  0.000000  \n",
       "92   0.000000  \n",
       "35   0.034483  \n",
       "85   0.000000  \n",
       "52   0.000000  \n",
       "127  0.000000  \n",
       "58   0.215686  \n",
       "24   0.000000  \n",
       "96   0.000000  \n",
       "91   0.000000  \n",
       "62   0.000000  \n",
       "113  0.000000  \n",
       "49   0.000000  \n",
       "36   0.000000  \n",
       "77   0.000000  \n",
       "101  0.250000  \n",
       "99   0.000000  \n",
       "106  0.333333  \n",
       "17   0.916667  \n",
       "89   0.240741  \n",
       "83   0.700000  \n",
       "1    0.724138  \n",
       "70   0.540000  \n",
       "9    0.637681  \n",
       "65   0.000000  "
      ]
     },
     "execution_count": 3,
     "metadata": {},
     "output_type": "execute_result"
    }
   ],
   "source": [
    "winner_decklists = decklists.loc[lambda x: x['stars'] > 0]\n",
    "other_decklists = decklists.loc[lambda x: x['stars'] == 0]\n",
    "winner_decklists\n",
    "\n",
    "\n"
   ]
  },
  {
   "cell_type": "code",
   "execution_count": 26,
   "metadata": {},
   "outputs": [
    {
     "data": {
      "text/plain": [
       "(0.0, 1.0)"
      ]
     },
     "execution_count": 26,
     "metadata": {},
     "output_type": "execute_result"
    },
    {
     "data": {
      "image/png": "[encoded data removed]",
      "text/plain": [
       "<Figure size 842.4x595.44 with 1 Axes>"
      ]
     },
     "metadata": {},
     "output_type": "display_data"
    }
   ],
   "source": [
    "import math\n",
    "colors = [\"white\",\"blue\",\"black\",\"red\",\"green\"]\n",
    "sns.set(rc={'figure.figsize':(11.7,8.27)})\n",
    "dict = {\n",
    "        \"white_win\": [winner_decklists['white'].sum()/len(winner_decklists.index)],\n",
    "        \"white_other\": [other_decklists['white'].sum()/len(other_decklists.index)],\n",
    "        \"blue_win\":  [winner_decklists['blue'].sum()/len(winner_decklists.index)],\n",
    "        \"blue_other\":  [other_decklists['blue'].sum()/len(other_decklists.index)],\n",
    "        \"black\": [winner_decklists['black'].sum()/len(winner_decklists.index)],\n",
    "        \"black_other\": [other_decklists['black'].sum()/len(other_decklists.index)],\n",
    "        \"red_win\": [winner_decklists['red'].sum()/len(winner_decklists.index)],\n",
    "        \"red_other\": [other_decklists['red'].sum()/len(other_decklists.index)],\n",
    "        \"green\": [winner_decklists['green'].sum()/len(winner_decklists.index)],\n",
    "        \"green_other\": [other_decklists['green'].sum()/len(other_decklists.index)],\n",
    "    }\n",
    "\n",
    "data = pd.DataFrame.from_dict(dict)\n",
    "plot = sns.barplot(data=data)\n",
    "for i, bar in enumerate(plot.patches):\n",
    "    num = math.floor(i/2)\n",
    "    bar.set_color(colors[num])\n",
    "    bar.set_edgecolor(\"black\")\n",
    "plot.set_ylim([0,1])"
   ]
  },
  {
   "cell_type": "markdown",
   "metadata": {},
   "source": [
    "According to the data the colors rank at\n",
    "\n",
    "1. black\n",
    "1. blue\n",
    "1. green\n",
    "1. white\n",
    "1. red\n",
    "\n",
    "for both sets of decklists.\n",
    "We also see that black is far more common and red is much less common among decklists that win, while white, blue, and green stay fairly even."
   ]
  },
  {
   "cell_type": "code",
   "execution_count": 31,
   "metadata": {},
   "outputs": [
    {
     "name": "stdout",
     "output_type": "stream",
     "text": [
      "22.04\n"
     ]
    },
    {
     "data": {
      "text/plain": [
       "<AxesSubplot:ylabel='lands'>"
      ]
     },
     "execution_count": 31,
     "metadata": {},
     "output_type": "execute_result"
    },
    {
     "data": {
      "image/png": "[encoded data removed]",
      "text/plain": [
       "<Figure size 842.4x595.44 with 1 Axes>"
      ]
     },
     "metadata": {},
     "output_type": "display_data"
    }
   ],
   "source": [
    "print(winner_decklists['lands'].mean())\n",
    "sns.boxplot(y=\"lands\",data=winner_decklists)"
   ]
  },
  {
   "cell_type": "code",
   "execution_count": 32,
   "metadata": {},
   "outputs": [
    {
     "name": "stdout",
     "output_type": "stream",
     "text": [
      "21.358974358974358\n"
     ]
    },
    {
     "data": {
      "text/plain": [
       "<AxesSubplot:ylabel='lands'>"
      ]
     },
     "execution_count": 32,
     "metadata": {},
     "output_type": "execute_result"
    },
    {
     "data": {
      "image/png": "[encoded data removed]",
      "text/plain": [
       "<Figure size 842.4x595.44 with 1 Axes>"
      ]
     },
     "metadata": {},
     "output_type": "display_data"
    }
   ],
   "source": [
    "print(other_decklists['lands'].mean())\n",
    "sns.boxplot(y=\"lands\",data=other_decklists)"
   ]
  },
  {
   "cell_type": "markdown",
   "metadata": {},
   "source": [
    "According the data, decklists that win use a slightly higher land count than the decklists that don't (22 vs 21), and the decklists that don't win see a much higher range in number of lands."
   ]
  },
  {
   "cell_type": "code",
   "execution_count": 29,
   "metadata": {},
   "outputs": [
    {
     "name": "stdout",
     "output_type": "stream",
     "text": [
      "2.4442585005664785\n"
     ]
    },
    {
     "data": {
      "text/plain": [
       "<AxesSubplot:ylabel='mv'>"
      ]
     },
     "execution_count": 29,
     "metadata": {},
     "output_type": "execute_result"
    },
    {
     "data": {
      "image/png": "[encoded data removed]",
      "text/plain": [
       "<Figure size 842.4x595.44 with 1 Axes>"
      ]
     },
     "metadata": {},
     "output_type": "display_data"
    }
   ],
   "source": [
    "print(winner_decklists['mv'].mean())\n",
    "sns.boxplot(y=\"mv\",data=winner_decklists)"
   ]
  },
  {
   "cell_type": "code",
   "execution_count": 30,
   "metadata": {},
   "outputs": [
    {
     "name": "stdout",
     "output_type": "stream",
     "text": [
      "2.294733107375975\n"
     ]
    },
    {
     "data": {
      "text/plain": [
       "<AxesSubplot:ylabel='mv'>"
      ]
     },
     "execution_count": 30,
     "metadata": {},
     "output_type": "execute_result"
    },
    {
     "data": {
      "image/png": "[encoded data removed]",
      "text/plain": [
       "<Figure size 842.4x595.44 with 1 Axes>"
      ]
     },
     "metadata": {},
     "output_type": "display_data"
    }
   ],
   "source": [
    "print(other_decklists['mv'].mean())\n",
    "sns.boxplot(y=\"mv\",data=other_decklists)"
   ]
  },
  {
   "cell_type": "markdown",
   "metadata": {},
   "source": [
    "With the higher land count, it makes sense that the average mana value is also slightly higher for decklists that win. (2.4 vs 2.3)"
   ]
  },
  {
   "cell_type": "code",
   "execution_count": 7,
   "metadata": {},
   "outputs": [
    {
     "data": {
      "image/png": "[encoded data removed]",
      "text/plain": [
       "<Figure size 842.4x595.44 with 1 Axes>"
      ]
     },
     "metadata": {},
     "output_type": "display_data"
    }
   ],
   "source": [
    "mv = pd.DataFrame.from_dict({\n",
    "    \"creatures_win\": [winner_decklists['creature'].sum()/len(winner_decklists.index)], \n",
    "    \"creatures_other\": [other_decklists['creature'].sum()/len(other_decklists.index)],\n",
    "    \"sorcery_win\": [winner_decklists['sorcery'].sum()/len(winner_decklists.index)], \n",
    "    \"sorcery_other\": [other_decklists['sorcery'].sum()/len(other_decklists.index)],\n",
    "    \"enchantment_win\": [winner_decklists['enchant'].sum()/len(winner_decklists.index)], \n",
    "    \"enchantment_other\": [other_decklists['enchant'].sum()/len(other_decklists.index)]\n",
    "})\n",
    "plot = sns.barplot(data=mv)"
   ]
  },
  {
   "cell_type": "markdown",
   "metadata": {},
   "source": [
    "This data says that the decks that win usually have about a 1:1 creature to sorcery ratio with a couple enchantments, while decks that don't win tend to have less creatures and more sorcery and enchantments. "
   ]
  },
  {
   "cell_type": "markdown",
   "metadata": {},
   "source": [
    "Based on the analysis, the most powerful deck would be a mono-black deck, with about 22 lands, an average mana value of 2.4, and an equal amount of spells and creatures with a couple enchantments."
   ]
  }
 ],
 "metadata": {
  "kernelspec": {
   "display_name": "Python 3 (ipykernel)",
   "language": "python",
   "name": "python3"
  },
  "language_info": {
   "codemirror_mode": {
    "name": "ipython",
    "version": 3
   },
   "file_extension": ".py",
   "mimetype": "text/x-python",
   "name": "python",
   "nbconvert_exporter": "python",
   "pygments_lexer": "ipython3",
   "version": "3.9.5"
  }
 },
 "nbformat": 4,
 "nbformat_minor": 4
}
